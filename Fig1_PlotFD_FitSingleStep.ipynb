{
 "cells": [
  {
   "cell_type": "markdown",
   "metadata": {},
   "source": [
    "## Analysis of the Holliday-Junction opening upon stretching 15-kb DNA with HJ in the center\n",
    "\n",
    "Artur Kaczmarczyk  | akaczmarczyk88@gmail.com   \n",
    "\n",
    "Single Molecule Imaging Group | D. Rueda lab | Imperial College London | MRC LMS\n",
    "\n",
    "version: June 4th\n",
    "\n",
    "The script below loads all .h5 files from a folder that contain FD data and generate individual Force-Distance curves. \n",
    "Subsequently, every dataset is fitted with Worm-Like-Chain Model with predefined parameters.\n",
    "\n",
    "Then, the part of the FD curve after the HJ-opening is fitted with the same persistence length and stretch modulus, leaving only the contour length as an open aprameter. The difference in the fitted contour length correspond with the step size. \n",
    "\n",
    "\n",
    "\n"
   ]
  },
  {
   "cell_type": "code",
   "execution_count": 1,
   "metadata": {},
   "outputs": [],
   "source": [
    "import numpy as np\n",
    "import matplotlib.pyplot as plt\n",
    "from scipy.optimize import curve_fit\n",
    "\n",
    "from lumicks import pylake\n",
    "import os\n",
    "import sys\n",
    "\n",
    "from tkinter import filedialog        # for opening dialog window\n",
    "from tkinter import *\n"
   ]
  },
  {
   "cell_type": "markdown",
   "metadata": {},
   "source": [
    "## Import all FD curves located in a defined folder"
   ]
  },
  {
   "cell_type": "code",
   "execution_count": 2,
   "metadata": {},
   "outputs": [
    {
     "name": "stdout",
     "output_type": "stream",
     "text": [
      "20201125-164144 M6_15kb_HJ_60Hz FD Curve 13.h5\n",
      "<class 'list'>\n"
     ]
    },
    {
     "data": {
      "text/plain": [
       "'/Users/Artur/Dropbox/DUNDEE _ IMPERIAL/PAPER/Figures DATA/Figure 1/raw data/D panel FD curve/script and RAW DATA'"
      ]
     },
     "execution_count": 2,
     "metadata": {},
     "output_type": "execute_result"
    }
   ],
   "source": [
    "# In the pop-up window, select the folder that contains .h5 files eith FD curves\n",
    "\n",
    "root = Tk()\n",
    "root.withdraw()\n",
    "folder_selected = filedialog.askdirectory()\n",
    "root.update()\n",
    "\n",
    "\n",
    "#folder = os.getcwd( )\n",
    "#filenames = os.listdir(folder)  \n",
    "#Filenames = []  \n",
    "\n",
    "\n",
    "\n",
    "\n",
    "# folder_selected =  r'/Users/Artur/OneDrive - Imperial College London/20200913'\n",
    "\n",
    "filenames = os.listdir(folder_selected)          # all files in the chosen folder\n",
    "Filenames = []                          \n",
    "\n",
    "# selection of FD Curve.H5 files only\n",
    "\n",
    "for filename in filenames:              \n",
    "    if filename[-3:] == '.h5' and 'FD Curve' in filename:\n",
    "        \n",
    "        Filenames.append(filename)\n",
    "        print(filename)\n",
    "        \n",
    "print(type(Filenames))\n",
    "\n",
    "os.chdir(folder_selected)\n",
    "os.getcwd()"
   ]
  },
  {
   "cell_type": "markdown",
   "metadata": {},
   "source": [
    "## Load WLC functions"
   ]
  },
  {
   "cell_type": "code",
   "execution_count": 3,
   "metadata": {},
   "outputs": [],
   "source": [
    "### Non-extendable WLC\n",
    "\n",
    "    ## This function returns the forces computed from a 7-parameter WLC model \n",
    "    ## [Bouchiat et al. Biophys J 76:409 (1999)]\n",
    "\n",
    "def wlc_7param(ext, Lp, Lc):\n",
    " \n",
    "    # Lp = persistence length  (in micro-m)\n",
    "    # Lc = contour length      (in micro-m)\n",
    "    # T  = absolute temperature (in Kelvin)\n",
    "    # k_B T in units of pN micro-m\n",
    "    \n",
    "    #Lc = 16.49\n",
    "    T = 297\n",
    "    Fwlc = []\n",
    "    kT = 1.3806503 * 10**(-23) *T/(10**(-18)) \n",
    "    z_L = ext/Lc\n",
    "\n",
    "    # parameters from the paper\n",
    "    my_list = [1, -0.5164228, -2.737418, 16.07497, -38.87607,  39.49944, -14.17718]   \n",
    "\n",
    "    a = np.asarray(my_list)\n",
    "    Fwlc = 1/(4*(1 - z_L)**2)  - 1/4\n",
    "    \n",
    "    for i in range(0,len(a)):\n",
    "        Fwlc = Fwlc + a[i] * z_L**[i]\n",
    "\n",
    "\n",
    "    return Fwlc * kT/Lp;\n",
    "\n",
    "\n",
    "### Extendable WLC\n",
    "\n",
    "    ## WLC model that takes stretching modulus into account\n",
    "\n",
    "\n",
    "def eWLC(force, Lp, L0, S):\n",
    "    F = force\n",
    "    kB = 1.38e-2\n",
    "    T = 297\n",
    "    #S = 1800    #stretching modulus (pN)\n",
    "    C = kB * T / (Lp*1000)\n",
    "    \n",
    "    \n",
    "    d = L0 - ((L0/2)*np.sqrt(C/F)) + (F*L0/S)\n",
    "    \n",
    "    return(d)\n",
    "\n",
    "\n",
    "\n",
    "def fjc(f, Pars): \n",
    "    #\"\"\"calculates a Freely Jointed Chain with a kungslength of \n",
    "    #b = 3 KbT / k*L\n",
    "    #where L is the length of the fiber in nm, and k the stiffness in nm pN per nucleosome\"\"\" \n",
    "    k_Cutof = 0.2   \n",
    "    if Pars['k_pN_nm'] < k_Cutof:\n",
    "        Pars['k_pN_nm'] = k_Cutof\n",
    "        print('>>Warning, Low stiffness, FJC breaks with low stiffness, k=', k_Cutof, \n",
    "              ' used instead. If k<', k_Cutof, ' is needed, use Hookian spring model instead')\n",
    "    b = 3 * Pars['kBT_pN_nm'] / (Pars['k_pN_nm']*Pars['ZFiber_nm'])\n",
    "    x = f * b / Pars['kBT_pN_nm']\n",
    "    z = (np.exp(x) + 1 / np.exp(x)) / (np.exp(x) - 1 / np.exp(x)) - 1 / x\n",
    "    #coth(x)= (exp(x) + exp(-x)) / (exp(x) - exp(x)) --> see Wikipedia\n",
    "    #z *= Pars['L_bp']*Pars['DNAds_nm']   #work /dG term not used atm\n",
    "    #z_df = (Pars['kBT_pN_nm'] / b) * (np.log(np.sinh(x)) - np.log(x))  #*L_nm #  + constant --> integrate over f (finish it\n",
    "    #w = f * z - z_df\n",
    "    return z * (Pars['N_tot']-Pars['N4'])\n",
    "\n",
    "\n"
   ]
  },
  {
   "cell_type": "code",
   "execution_count": 4,
   "metadata": {},
   "outputs": [],
   "source": [
    "# LEAST SQUARE METHOD is used to fit the persistence length and the contour length beased on the non-eWLC\n",
    "\n",
    "# Predefine the expected range (in micrometers)\n",
    "PL_min = 0.015 \n",
    "PL_max = 0.055\n",
    "CL_min = 4.8\n",
    "CL_max = 5.2\n",
    "S_min = 800 # pN\n",
    "S_max = 1800 #pN\n",
    "\n",
    "\n",
    "\n",
    "# Choose the part of the data to be fitted   \n",
    "\n",
    "force_treshold = 22     # pN  \n",
    "force_treshold_min = 5  # pN\n",
    "\n",
    "force_treshold_2nd = 40     # pN  \n",
    "force_treshold_min_2nd  = 24  # pN\n"
   ]
  },
  {
   "cell_type": "code",
   "execution_count": 5,
   "metadata": {},
   "outputs": [
    {
     "name": "stdout",
     "output_type": "stream",
     "text": [
      "Force-distance curve I.D. = ['13']\n"
     ]
    },
    {
     "data": {
      "image/png": "[encoded data removed]",
      "text/plain": [
       "<Figure size 630x420 with 1 Axes>"
      ]
     },
     "metadata": {
      "needs_background": "light"
     },
     "output_type": "display_data"
    }
   ],
   "source": [
    "for k in range(len(Filenames)):\n",
    "    \n",
    "    \n",
    "    file = pylake.File(Filenames[k])\n",
    "    print(\"Force-distance curve I.D. = \" + str(list(file.fdcurves)))\n",
    "    curve_number = (list(file.fdcurves))   \n",
    "    \n",
    "    \n",
    "    index = 0 # keep ZERO when there is only one FD curve within the .h5 file, increments +1 would correspond with the list of indexes for remaining FD curve generated in the same .h5 file\n",
    "    \n",
    "    fd = file.fdcurves[(curve_number[index])]\n",
    "    force = fd.f\n",
    "    distance = fd.d\n",
    "\n",
    "    \n",
    "    # Stretching curve\n",
    "    plt.figure(figsize=(9, 6), dpi=70)\n",
    "    if np.sum(np.diff(distance.data[0:100])) > 0:\n",
    "        \n",
    "        plt.scatter(distance.data,force.data, s = 150)\n",
    "\n",
    "        indices_bottom = [i for i,v in enumerate(force.data > force_treshold_min ) if v]\n",
    "        indices_top = [i for i,v in enumerate(force.data > force_treshold) if v]\n",
    "        b1 = indices_bottom[0]\n",
    "        b2 = indices_top[0]\n",
    "\n",
    "\n",
    "        popt, pcov = curve_fit(eWLC, force.data[b1:b2], distance.data[b1:b2], bounds=([PL_min,CL_min,S_min],[PL_max,CL_max,S_max]))\n",
    "        perr = np.sqrt(np.diag(pcov)) # standard deviation errors of the parameters\n",
    "        \n",
    "        \n",
    "        indices_bottom2 = [i for i,v in enumerate(force.data > force_treshold_min_2nd ) if v]\n",
    "        indices_top2 = [i for i,v in enumerate(force.data > force_treshold_2nd) if v]\n",
    "        b1a = indices_bottom2[0]\n",
    "        b2a = indices_top2[0]\n",
    "\n",
    "        popt2, pcov2 = curve_fit(eWLC, force.data[b1a:b2a], distance.data[b1a:b2a], bounds=([popt[0]-0.0001,CL_min,popt[2]-0.01],[popt[0]+0.0001,CL_max,popt[2]+0.01]))\n",
    "        perr2 = np.sqrt(np.diag(pcov2)) # standard deviation errors of the parameters\n",
    "        \n",
    "        #np.savetxt(str(Filenames[k][:-3])+'_fit_'+ (curve_number[index]) + '.csv' , np.c_[distance.data, force.data], delimiter=\",\")\n",
    "    \n",
    "        #plt.plot(eWLC(np.linspace(force_treshold_min,force_treshold,100), *popt),np.linspace(force_treshold_min,force_treshold,100),  'r-',linewidth=1, label='fit: a=%5.3f, b=%5.3f, c =%5.0f' % tuple(popt))\n",
    "        #plt.plot(eWLC(np.linspace(force_treshold_min_2nd,force_treshold_2nd,100), *popt2),np.linspace(force_treshold_min_2nd,force_treshold_2nd,100),  'r-',linewidth=1, label='fit: a=%5.3f, b=%5.3f, c =%5.0f' % tuple(popt2))\n",
    "        #plt.plot(eWLC(np.linspace(distance.data,force.data,50), *popt),np.linspace(distance.data,force.data,50),'.',color='silver',label='fit: a=%5.3f, b=%5.3f, c =%5.0f' % tuple(popt))\n",
    "        #plt.plot(eWLC(np.linspace(distance.data,force.data,50), *popt2),np.linspace(distance.data,force.data,50),'.',color='silver',label='fit: a=%5.3f, b=%5.3f, c =%5.0f' % tuple(popt2))\n",
    "        #plt.plot(eWLC(np.linspace(force.data[0],force.data[-1],100), *popt),np.linspace(force.data[0],force.data[-1],100),'--',color='red',label='fit: a=%5.3f, b=%5.3f, c =%5.0f' % tuple(popt))\n",
    "        #plt.plot(eWLC(np.linspace(force.data[0],force.data[-1],100), *popt2),np.linspace(force.data[0],force.data[-1],100),'--',color='orange',label='fit: a=%5.3f, b=%5.3f, c =%5.0f' % tuple(popt2))\n",
    "\n",
    "\n",
    "        plt.plot(eWLC(np.linspace(0.5,force_treshold_2nd,100), *popt),np.linspace(0.5,force_treshold_2nd,100),'--',color='red',label='fit: a=%5.3f, b=%5.3f, c =%5.0f' % tuple(popt))\n",
    "        plt.plot(eWLC(np.linspace(0.5,force_treshold_2nd,100), *popt2),np.linspace(0.5,force_treshold_2nd,100),'--',color='orange',label='fit: a=%5.3f, b=%5.3f, c =%5.0f' % tuple(popt2))\n",
    "\n",
    "        np.savetxt(str(Filenames[k][:-3])+'_dataSTEPS_'+ (curve_number[index]) + '.csv' , np.c_[distance.data, force.data], delimiter=\",\")\n",
    "        np.savetxt(str(Filenames[k][:-3])+'_fitSTEPS_'+ (curve_number[index]) + '.csv' , np.c_[eWLC(np.linspace(0.5,40,100), *popt),np.linspace(0.5,40,100),eWLC(np.linspace(0.5,40,100), *popt2),np.linspace(0.5,40,100)], delimiter=\",\")\n",
    "\n",
    "\n",
    "\n",
    "\n",
    "\n",
    "    \n",
    "    # Refolding curve\n",
    "    if np.sum(np.diff(distance.data)) < 0:\n",
    "    #else:\n",
    "        \n",
    "        plt.scatter(distance.data, force.data, s = 150, color = 'silver')\n",
    "    \n",
    "        indices_bottom = [i for i,v in enumerate(force.data > force_treshold_min ) if v]\n",
    "        indices_top = [i for i,v in enumerate(force.data < force_treshold) if v]\n",
    "        b1 = indices_bottom[-1]\n",
    "        b2 = indices_top[0]  \n",
    "        \n",
    "        popt, pcov = curve_fit(eWLC,  force.data[b2:b1], distance.data[b2:b1], bounds=([PL_min,CL_min,S_min],[PL_max,CL_max,S_max]))\n",
    "        perr = np.sqrt(np.diag(pcov)) # standard deviation errors of the parameters\n",
    "   \n",
    "        #np.savetxt(str(Filenames[k][:-3])+'_fit_'+ (curve_number[index]) + '.csv' , np.c_[distance.data, force.data], delimiter=\",\")\n",
    "\n",
    "        plt.plot(eWLC(np.linspace(force_treshold_min,force_treshold,100), *popt), np.linspace(force_treshold_min,force_treshold,100),  'r-',linewidth=2.5, label='fit: a=%5.3f, b=%5.3f, c =%5.0f' % tuple(popt))\n",
    "\n",
    "        \n",
    "    \n",
    "    plt.xlabel('extension (\\u03BCm)')    \n",
    "    plt.ylabel('force (pN)')   \n",
    "    \n",
    "    #plt.xlim(4.65, 4.95)\n",
    "    #plt.xlim(4.75, 5.05)\n",
    "    #plt.ylim(8, 35)\n",
    "    plt.xlim(4.6, 5)\n",
    "    plt.ylim(4, 50)\n",
    "    plt.yticks(np.arange(0,50,10))\n",
    "    plt.grid(axis='y', alpha=0.5)\n",
    "    plt.rc('font', size=11)\n",
    "    plt.title(str(Filenames[k]))\n",
    "    leg = plt.legend(('fit eWLC, Lp = '+ str(round(popt[0]*1000))+ ' $ \\pm $ '+ str(round(perr[0]*1000)) + ' nm, Lc = '+str(round(popt[1],3))+ ' $ \\pm $ '+ str(round(perr[1],3)) +' \\u03BCm , S = ' + str(round(popt[2])) + ' $ \\pm $ '+ str(round(perr[2])) +' pN' ,'fit2 eWLC, Lp = '+ str(round(popt2[0]*1000))+ ' $ \\pm $ '+ str(round(perr[0]*1000)) + ' nm, Lc = '+str(round(popt2[1],3))+ ' $ \\pm $ '+ str(round(perr2[1],3)) +' \\u03BCm , S = ' + str(round(popt2[2])) + ' $ \\pm $ '+ str(round(perr[2]))+' pN',))\n",
    "    leg.get_frame().set_linewidth(0.0)\n",
    "\n",
    "    plt.savefig(str(Filenames[k][:-3])+'_plotZOOM_' + (curve_number[index]) + '.png', dpi=300, bbox_inches='tight')\n",
    "    #np.savetxt('Fd_'+ (curve_number[index]) + '.csv' , np.c_[distance.data[np.argmax(force.data):len(force.data)], force.data[np.argmax(force.data):len(force.data)]], delimiter=\",\")\n",
    "    #np.savetxt('Fd_fit'+ (curve_number[index]) + '.csv' , np.c_[d_wave, f_wave], delimiter=\",\")\n",
    "\n",
    "    plt.rc('font', size=20)\n",
    "\n",
    "\n",
    "    #plt.plot(d_wave2, f_wave,'--',color = 'silver')\n",
    "    #plt.xlabel('extension (\\u03BCm)')    \n",
    "    #plt.ylabel('force (pN)')   \n",
    "    #plt.xlim(4.8, 4.9)\n",
    "    #plt.ylim(15, 30)\n",
    "    #plt.savefig('zoom_FD_' + (curve_number[index]) + '.png', dpi=300, bbox_inches='tight')\n",
    "\n"
   ]
  },
  {
   "cell_type": "code",
   "execution_count": 65,
   "metadata": {},
   "outputs": [
    {
     "data": {
      "image/png": "[encoded data removed]",
      "text/plain": [
       "<Figure size 630x420 with 1 Axes>"
      ]
     },
     "metadata": {
      "needs_background": "light"
     },
     "output_type": "display_data"
    }
   ],
   "source": [
    "time = (force.timestamps-force.timestamps[0])/10**9\n",
    "\n",
    "\n",
    "plt.figure(figsize=(9, 6), dpi=70)\n",
    "if np.sum(np.diff(distance.data[0:100])) > 0:\n",
    "        \n",
    "    #plt.scatter(distance.data,force.data, s = 150)\n",
    "    plt.scatter(time, force.data,s = 100)\n",
    "    \n",
    "\n",
    "    indices_bottom = [i for i,v in enumerate(force.data > force_treshold_min ) if v]\n",
    "    indices_top = [i for i,v in enumerate(force.data > force_treshold) if v]\n",
    "    b1 = indices_bottom[0]\n",
    "    b2 = indices_top[0]\n",
    "\n",
    "\n",
    "    popt, pcov = curve_fit(eWLC, force.data[b1:b2], distance.data[b1:b2], bounds=([PL_min,CL_min,S_min],[PL_max,CL_max,S_max]))\n",
    "    perr = np.sqrt(np.diag(pcov)) # standard deviation errors of the parameters\n",
    "        \n",
    "        \n",
    "    indices_bottom2 = [i for i,v in enumerate(force.data > force_treshold_min_2nd ) if v]\n",
    "    indices_top2 = [i for i,v in enumerate(force.data > force_treshold_2nd) if v]\n",
    "    b1a = indices_bottom2[0]\n",
    "    b2a = indices_top2[0]\n",
    "\n",
    "    popt2, pcov2 = curve_fit(eWLC, force.data[b1a:b2a], distance.data[b1a:b2a], bounds=([popt[0]-0.0001,CL_min,popt[2]-0.01],[popt[0]+0.0001,CL_max,popt[2]+0.01]))\n",
    "    perr2 = np.sqrt(np.diag(pcov2)) # standard deviation errors of the parameters\n",
    "        \n",
    "        #np.savetxt(str(Filenames[k][:-3])+'_fit_'+ (curve_number[index]) + '.csv' , np.c_[distance.data, force.data], delimiter=\",\")\n",
    "    \n",
    "        #plt.plot(eWLC(np.linspace(force_treshold_min,force_treshold,100), *popt),np.linspace(force_treshold_min,force_treshold,100),  'r-',linewidth=1, label='fit: a=%5.3f, b=%5.3f, c =%5.0f' % tuple(popt))\n",
    "        #plt.plot(eWLC(np.linspace(force_treshold_min_2nd,force_treshold_2nd,100), *popt2),np.linspace(force_treshold_min_2nd,force_treshold_2nd,100),  'r-',linewidth=1, label='fit: a=%5.3f, b=%5.3f, c =%5.0f' % tuple(popt2))\n",
    "        #plt.plot(eWLC(np.linspace(distance.data,force.data,50), *popt),np.linspace(distance.data,force.data,50),'.',color='silver',label='fit: a=%5.3f, b=%5.3f, c =%5.0f' % tuple(popt))\n",
    "        #plt.plot(eWLC(np.linspace(distance.data,force.data,50), *popt2),np.linspace(distance.data,force.data,50),'.',color='silver',label='fit: a=%5.3f, b=%5.3f, c =%5.0f' % tuple(popt2))\n",
    "        #plt.plot(eWLC(np.linspace(force.data[0],force.data[-1],100), *popt),np.linspace(force.data[0],force.data[-1],100),'--',color='red',label='fit: a=%5.3f, b=%5.3f, c =%5.0f' % tuple(popt))\n",
    "        #plt.plot(eWLC(np.linspace(force.data[0],force.data[-1],100), *popt2),np.linspace(force.data[0],force.data[-1],100),'--',color='orange',label='fit: a=%5.3f, b=%5.3f, c =%5.0f' % tuple(popt2))\n",
    "\n",
    "\n",
    "    #plt.plot(eWLC(np.linspace(0.5,force_treshold_2nd,100), *popt),np.linspace(0.5,force_treshold_2nd,100),'--',color='red',label='fit: a=%5.3f, b=%5.3f, c =%5.0f' % tuple(popt))\n",
    "    #plt.plot(eWLC(np.linspace(0.5,force_treshold_2nd,100), *popt2),np.linspace(0.5,force_treshold_2nd,100),'--',color='orange',label='fit: a=%5.3f, b=%5.3f, c =%5.0f' % tuple(popt2))\n",
    "\n",
    "    #np.savetxt(str(Filenames[k][:-3])+'_dataSTEPS_'+ (curve_number[index]) + '.csv' , np.c_[distance.data, force.data], delimiter=\",\")\n",
    "    #np.savetxt(str(Filenames[k][:-3])+'_fitSTEPS_'+ (curve_number[index]) + '.csv' , np.c_[eWLC(np.linspace(0.5,40,100), *popt),np.linspace(0.5,40,100),eWLC(np.linspace(0.5,40,100), *popt2),np.linspace(0.5,40,100)], delimiter=\",\")\n",
    "\n",
    "    plt.xlabel('time (s)')    \n",
    "    plt.ylabel('force (pN)')   \n",
    "    \n",
    "    plt.xlim(17.7,18.6)\n",
    "    plt.ylim(20, 27)\n",
    "\n",
    "    #plt.ylim(4, 50)\n",
    "    #plt.yticks(np.arange(0,50,10))\n",
    "    plt.grid(axis='y', alpha=0.5)\n",
    "    plt.rc('font', size=11)\n",
    "    plt.title(str(Filenames[k]))\n",
    "    #leg = plt.legend(('fit eWLC, Lp = '+ str(round(popt[0]*1000))+ ' $ \\pm $ '+ str(round(perr[0]*1000)) + ' nm, Lc = '+str(round(popt[1],3))+ ' $ \\pm $ '+ str(round(perr[1],3)) +' \\u03BCm , S = ' + str(round(popt[2])) + ' $ \\pm $ '+ str(round(perr[2])) +' pN' ,'fit2 eWLC, Lp = '+ str(round(popt2[0]*1000))+ ' $ \\pm $ '+ str(round(perr[0]*1000)) + ' nm, Lc = '+str(round(popt2[1],3))+ ' $ \\pm $ '+ str(round(perr2[1],3)) +' \\u03BCm , S = ' + str(round(popt2[2])) + ' $ \\pm $ '+ str(round(perr[2]))+' pN',))\n",
    "    #leg.get_frame().set_linewidth(0.0)\n",
    "\n",
    "\n",
    "\n",
    "\n",
    "\n",
    "    "
   ]
  },
  {
   "cell_type": "code",
   "execution_count": 61,
   "metadata": {},
   "outputs": [
    {
     "data": {
      "text/plain": [
       "<BarContainer object of 1349 artists>"
      ]
     },
     "execution_count": 61,
     "metadata": {},
     "output_type": "execute_result"
    },
    {
     "data": {
      "image/png": "[encoded data removed]",
      "text/plain": [
       "<Figure size 432x288 with 1 Axes>"
      ]
     },
     "metadata": {
      "needs_background": "light"
     },
     "output_type": "display_data"
    }
   ],
   "source": [
    "plt.bar(time,force.data)"
   ]
  },
  {
   "cell_type": "code",
   "execution_count": null,
   "metadata": {},
   "outputs": [],
   "source": [
    "\n",
    "\n"
   ]
  },
  {
   "cell_type": "code",
   "execution_count": null,
   "metadata": {},
   "outputs": [],
   "source": []
  },
  {
   "cell_type": "code",
   "execution_count": null,
   "metadata": {},
   "outputs": [],
   "source": []
  }
 ],
 "metadata": {
  "kernelspec": {
   "display_name": "Python 3",
   "language": "python",
   "name": "python3"
  },
  "language_info": {
   "codemirror_mode": {
    "name": "ipython",
    "version": 3
   },
   "file_extension": ".py",
   "mimetype": "text/x-python",
   "name": "python",
   "nbconvert_exporter": "python",
   "pygments_lexer": "ipython3",
   "version": "3.9.4"
  }
 },
 "nbformat": 4,
 "nbformat_minor": 2
}
