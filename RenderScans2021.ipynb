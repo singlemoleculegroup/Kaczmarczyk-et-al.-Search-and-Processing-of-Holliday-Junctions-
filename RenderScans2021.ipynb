{
 "cells": [
  {
   "cell_type": "markdown",
   "metadata": {},
   "source": [
    "# Render Scans from all .h5 files\n",
    "\n",
    "Artur Kaczmarczyk  | akaczmarczyk88@gmail.com   \n",
    "Single Molecule Imaging Group | D. Rueda lab | Imperial College London | MRC LMS\n",
    "\n",
    "version: August 11 2021\n",
    "\n",
    "The script below loads all .h5 files from a folder that contains .h5 files with a scan and saves them as .tiff \n",
    "\n",
    "-------\n",
    "requirements: tkinter library for opening dialog window; if there is a problem with it, silence the tkinker library and manually add the directory of the folder with .h5 files\n",
    "\n"
   ]
  },
  {
   "cell_type": "code",
   "execution_count": 2,
   "metadata": {},
   "outputs": [],
   "source": [
    "# Load the libraries\n",
    "\n",
    "import os\n",
    "import numpy as np\n",
    "import sys\n",
    "import matplotlib.pyplot as plt\n",
    "\n",
    "\n",
    "\n",
    "from lumicks import pylake\n",
    "\n",
    "from tkinter import filedialog        # for opening dialog window\n",
    "from tkinter import *\n"
   ]
  },
  {
   "cell_type": "markdown",
   "metadata": {},
   "source": [
    "## In the pop-up window, select the folder that contains .h5 files with Kymograph files\n"
   ]
  },
  {
   "cell_type": "code",
   "execution_count": 4,
   "metadata": {},
   "outputs": [
    {
     "name": "stdout",
     "output_type": "stream",
     "text": [
      "20200827-154533 Qtrap_test Scan 1.h5\n",
      "20200827-193923 Qtrap_test Scan 9.h5\n",
      "20200828-133318 M1_80nM_Rad51_3nM_RFS1RIP1_2nM80nt_Cy3_ssDNA_ Scan 2.h5\n",
      "20200828-141549 5_DOUBLE_TETHERED__80nM_Rad51_3nM_RFS1RIP1_2nM80nt_Cy3_ssDNA_ Scan 5.h5\n",
      "20200828-153107 M6_60nM_DUBLE_TETEHR_Rad51_5nM_RFS1RIP1_1_7nM80nt_Cy3_ssDNA_ Scan 8.h5\n",
      "20200828-153109 M6_60nM_DUBLE_TETEHR_Rad51_5nM_RFS1RIP1_1_7nM80nt_Cy3_ssDNA_ Scan 9.h5\n",
      "20200828-153115 M6_60nM_DUBLE_TETEHR_Rad51_5nM_RFS1RIP1_1_7nM80nt_Cy3_ssDNA_ Scan 6.h5\n",
      "20200828-153117 M6_60nM_DUBLE_TETEHR_Rad51_5nM_RFS1RIP1_1_7nM80nt_Cy3_ssDNA_ Scan 7.h5\n",
      "<class 'list'>\n"
     ]
    },
    {
     "data": {
      "text/plain": [
       "'/Volumes/ELEMENTS/C-TRAP data 2020/Rad51 project/20200827'"
      ]
     },
     "execution_count": 4,
     "metadata": {},
     "output_type": "execute_result"
    }
   ],
   "source": [
    "## ALTERNATIVELY TYPE THE FOLDER DIRECTORY IF THE POP-UP WINDOW DOESN'T WORK\n",
    "#folder = os.getcwd( )\n",
    "#filenames = os.listdir(folder)  \n",
    "#Filenames = []  \n",
    "#folder_selected =  r'/Users/Artur/OneDrive - Imperial College London/20200913'\n",
    "\n",
    "\n",
    "root = Tk()\n",
    "root.withdraw()\n",
    "folder_selected = filedialog.askdirectory()\n",
    "root.update()\n",
    "\n",
    "filenames = os.listdir(folder_selected)          # all files in the chosen folder\n",
    "Filenames = []                          \n",
    "\n",
    "\n",
    "# Selection of KYMOGRAPH.H5 files only\n",
    "for filename in filenames:              \n",
    "    if filename[-3:] == '.h5' and 'Scan' in filename:\n",
    "        \n",
    "        Filenames.append(filename)\n",
    "        print(filename)\n",
    "        \n",
    "print(type(Filenames))\n",
    "\n",
    "os.chdir(folder_selected)\n",
    "os.getcwd()"
   ]
  },
  {
   "cell_type": "markdown",
   "metadata": {},
   "source": [
    "## Extract TIFFs from all files in the folder and save them as .TIFF"
   ]
  },
  {
   "cell_type": "code",
   "execution_count": 5,
   "metadata": {},
   "outputs": [
    {
     "name": "stdout",
     "output_type": "stream",
     "text": [
      "Scan I.D. = ['1']\n",
      "Scan I.D. = ['9']\n",
      "Scan I.D. = ['2']\n",
      "Scan I.D. = ['5']\n",
      "Scan I.D. = ['8']\n",
      "Scan I.D. = ['9']\n",
      "Scan I.D. = ['6']\n",
      "Scan I.D. = ['7']\n"
     ]
    },
    {
     "data": {
      "image/png": "[encoded data removed]",
      "text/plain": [
       "<Figure size 432x288 with 1 Axes>"
      ]
     },
     "metadata": {
      "needs_background": "light"
     },
     "output_type": "display_data"
    }
   ],
   "source": [
    "for i in range(len(Filenames)):\n",
    "   \n",
    "    name = str(Filenames[i])\n",
    "    file = pylake.File(name)\n",
    "    \n",
    "    print(\"Scan I.D. = \" + str(list(file.scans)))   \n",
    "    #print(file)                                   # textual representation of the contents of a file\n",
    "\n",
    "    scans_names = list(file.scans)                 # reference to Kymo I.D \n",
    "    scans = file.scans[scans_names[0]]\n",
    "                              \n",
    "    \n",
    "    index = scans_names[0]                        #first index from the list of kymographs within one file    \n",
    "    #name = 'Kymo_' + index + '.tiff'\n",
    "    name2 = name[:-3] + '.tiff'\n",
    "\n",
    "    scans.save_tiff(str(name2))\n",
    "    scans.plot_rgb(vmax=5)    \n",
    "    plt.savefig(name[:-3] + '.png', dpi=300, bbox_inches='tight')\n",
    "    #scans.export_video_rgb(name[:-3]  + '.gif')\n"
   ]
  },
  {
   "cell_type": "code",
   "execution_count": null,
   "metadata": {},
   "outputs": [],
   "source": []
  }
 ],
 "metadata": {
  "kernelspec": {
   "display_name": "Python 3",
   "language": "python",
   "name": "python3"
  },
  "language_info": {
   "codemirror_mode": {
    "name": "ipython",
    "version": 3
   },
   "file_extension": ".py",
   "mimetype": "text/x-python",
   "name": "python",
   "nbconvert_exporter": "python",
   "pygments_lexer": "ipython3",
   "version": "3.9.4"
  }
 },
 "nbformat": 4,
 "nbformat_minor": 2
}
